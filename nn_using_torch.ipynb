{
 "cells": [
  {
   "cell_type": "code",
   "execution_count": 129,
   "id": "20386d16",
   "metadata": {},
   "outputs": [],
   "source": [
    "import torchvision #for mnist dataset\n",
    "import gzip\n",
    "import numpy as np\n",
    "import matplotlib.pyplot as plt\n",
    "from tqdm import trange"
   ]
  },
  {
   "cell_type": "code",
   "execution_count": 7,
   "id": "6f13bcbf",
   "metadata": {},
   "outputs": [
    {
     "name": "stderr",
     "output_type": "stream",
     "text": [
      "\r",
      "0.3%"
     ]
    },
    {
     "name": "stdout",
     "output_type": "stream",
     "text": [
      "Downloading http://yann.lecun.com/exdb/mnist/train-images-idx3-ubyte.gz\n",
      "Downloading http://yann.lecun.com/exdb/mnist/train-images-idx3-ubyte.gz to ./mnist/MNIST/raw/train-images-idx3-ubyte.gz\n"
     ]
    },
    {
     "name": "stderr",
     "output_type": "stream",
     "text": [
      "100.0%\n"
     ]
    },
    {
     "name": "stdout",
     "output_type": "stream",
     "text": [
      "Extracting ./mnist/MNIST/raw/train-images-idx3-ubyte.gz to ./mnist/MNIST/raw\n",
      "\n",
      "Downloading http://yann.lecun.com/exdb/mnist/train-labels-idx1-ubyte.gz\n"
     ]
    },
    {
     "name": "stderr",
     "output_type": "stream",
     "text": [
      "\r",
      "100.0%"
     ]
    },
    {
     "name": "stdout",
     "output_type": "stream",
     "text": [
      "Downloading http://yann.lecun.com/exdb/mnist/train-labels-idx1-ubyte.gz to ./mnist/MNIST/raw/train-labels-idx1-ubyte.gz\n",
      "Extracting ./mnist/MNIST/raw/train-labels-idx1-ubyte.gz to ./mnist/MNIST/raw\n",
      "\n",
      "Downloading http://yann.lecun.com/exdb/mnist/t10k-images-idx3-ubyte.gz\n",
      "Downloading http://yann.lecun.com/exdb/mnist/t10k-images-idx3-ubyte.gz to ./mnist/MNIST/raw/t10k-images-idx3-ubyte.gz\n"
     ]
    },
    {
     "name": "stderr",
     "output_type": "stream",
     "text": [
      "\n",
      "100.0%\n",
      "100.0%\n"
     ]
    },
    {
     "name": "stdout",
     "output_type": "stream",
     "text": [
      "Extracting ./mnist/MNIST/raw/t10k-images-idx3-ubyte.gz to ./mnist/MNIST/raw\n",
      "\n",
      "Downloading http://yann.lecun.com/exdb/mnist/t10k-labels-idx1-ubyte.gz\n",
      "Downloading http://yann.lecun.com/exdb/mnist/t10k-labels-idx1-ubyte.gz to ./mnist/MNIST/raw/t10k-labels-idx1-ubyte.gz\n",
      "Extracting ./mnist/MNIST/raw/t10k-labels-idx1-ubyte.gz to ./mnist/MNIST/raw\n",
      "\n"
     ]
    }
   ],
   "source": [
    "torchvision.datasets.MNIST('./mnist',download=True)"
   ]
  },
  {
   "cell_type": "code",
   "execution_count": 11,
   "id": "38828e63",
   "metadata": {},
   "outputs": [
    {
     "name": "stdout",
     "output_type": "stream",
     "text": [
      "t10k-images-idx3-ubyte\t   train-images-idx3-ubyte\r\n",
      "t10k-images-idx3-ubyte.gz  train-images-idx3-ubyte.gz\r\n",
      "t10k-labels-idx1-ubyte\t   train-labels-idx1-ubyte\r\n",
      "t10k-labels-idx1-ubyte.gz  train-labels-idx1-ubyte.gz\r\n"
     ]
    }
   ],
   "source": [
    "!ls mnist/MNIST/raw/"
   ]
  },
  {
   "cell_type": "code",
   "execution_count": 18,
   "id": "3f2603ca",
   "metadata": {},
   "outputs": [
    {
     "data": {
      "text/plain": [
       "'/home/zainhas/Projects/nn_from_scratch/mnist/MNIST/raw/t10k-images-idx3-ubyte.gz'"
      ]
     },
     "execution_count": 18,
     "metadata": {},
     "output_type": "execute_result"
    }
   ],
   "source": [
    "import os\n",
    "os.path.join(os.getcwd(),'mnist/MNIST/raw/t10k-images-idx3-ubyte.gz')"
   ]
  },
  {
   "cell_type": "code",
   "execution_count": 97,
   "id": "38fec201",
   "metadata": {},
   "outputs": [],
   "source": [
    "import gzip, os\n",
    "def load(loc):\n",
    "    path = os.path.join(os.getcwd(),loc)\n",
    "    f = gzip.open(path, 'r')\n",
    "    buf = f.read()\n",
    "    return np.frombuffer(buf, dtype=np.uint8).astype(np.float32).copy()"
   ]
  },
  {
   "cell_type": "code",
   "execution_count": 98,
   "id": "e2ebf622",
   "metadata": {},
   "outputs": [],
   "source": [
    "X_test = load('mnist/MNIST/raw/t10k-images-idx3-ubyte.gz')[16:].reshape((-1,28,28))\n",
    "X_train = load('mnist/MNIST/raw/train-images-idx3-ubyte.gz')[16:].reshape((-1,28,28))\n",
    "Y_train = load('mnist/MNIST/raw/train-labels-idx1-ubyte.gz')[8:]\n",
    "Y_test = load('mnist/MNIST/raw/t10k-labels-idx1-ubyte.gz')[8:]"
   ]
  },
  {
   "cell_type": "code",
   "execution_count": 99,
   "id": "2a520b36",
   "metadata": {},
   "outputs": [
    {
     "data": {
      "text/plain": [
       "((60000, 28, 28), (10000, 28, 28), (60000,), (10000,))"
      ]
     },
     "execution_count": 99,
     "metadata": {},
     "output_type": "execute_result"
    }
   ],
   "source": [
    "X_train.shape, X_test.shape, Y_train.shape, Y_test.shape"
   ]
  },
  {
   "cell_type": "code",
   "execution_count": 100,
   "id": "ec645359",
   "metadata": {},
   "outputs": [
    {
     "name": "stdout",
     "output_type": "stream",
     "text": [
      "This is a 5.0\n"
     ]
    },
    {
     "data": {
      "image/png": "[encoded data removed]",
      "text/plain": [
       "<Figure size 640x480 with 1 Axes>"
      ]
     },
     "metadata": {},
     "output_type": "display_data"
    }
   ],
   "source": [
    "print(f\"This is a {Y_train[0]}\")\n",
    "plt.imshow(X_train[0]);"
   ]
  },
  {
   "cell_type": "code",
   "execution_count": 179,
   "id": "21e3cd1b",
   "metadata": {},
   "outputs": [],
   "source": [
    "import torch\n",
    "import torch.nn as nn\n",
    "import torch.nn.functional as F\n",
    "\n",
    "class ZNet(nn.Module):\n",
    "    def __init__(self):\n",
    "        super().__init__()\n",
    "        self.layer1 = nn.Linear(28*28,100, bias=False)\n",
    "        self.layer2 = nn.Linear(100,10, bias=False)\n",
    "        self.sm = nn.Softmax(dim=1)\n",
    "    def forward(self, x):\n",
    "        x = F.relu(self.layer1(x))\n",
    "        x = self.layer2(x)\n",
    "        #x = self.sm(x)\n",
    "        return x"
   ]
  },
  {
   "cell_type": "code",
   "execution_count": 186,
   "id": "82d9dd04",
   "metadata": {},
   "outputs": [
    {
     "name": "stderr",
     "output_type": "stream",
     "text": [
      "Loss: 0.52, Train Acc: 0.89: 100%|███████████████████████████████████████████████████| 500/500 [00:00<00:00, 697.57it/s]\n"
     ]
    }
   ],
   "source": [
    "model = ZNet()\n",
    "\n",
    "#Loss function -> categorical_cross_entropy\n",
    "\n",
    "loss_func = nn.CrossEntropyLoss()\n",
    "optimizer = torch.optim.Adam(model.parameters())\n",
    "batch_size = 64\n",
    "loss_, acc_ = [], []\n",
    "for i in (t := trange(500)):\n",
    "    #batch and sample\n",
    "    sample = np.random.randint(0,X_train.shape[0]-1,size=batch_size)\n",
    "    x = torch.tensor(X_train[sample].reshape(-1,28*28))\n",
    "    y = torch.tensor(Y_train[sample]).long()\n",
    "    \n",
    "    #zero the gradients\n",
    "    optimizer.zero_grad()\n",
    "    #forward\n",
    "    out = model(x)\n",
    "    \n",
    "    #compute accuracy\n",
    "    pred = torch.argmax(out,dim=1)\n",
    "    acc = (pred == y).float().mean()\n",
    "    \n",
    "    #compute loss\n",
    "    loss = loss_func(out,y)\n",
    "    #backward\n",
    "    loss.backward()\n",
    "    #Update the params\n",
    "    optimizer.step()\n",
    "    loss_.append(loss.item())\n",
    "    acc_.append(acc.item())\n",
    "    t.set_description(f\"Loss: {loss:.2f}, Train Acc: {acc:.2f}\")"
   ]
  },
  {
   "cell_type": "code",
   "execution_count": 241,
   "id": "cbcc5ce6",
   "metadata": {},
   "outputs": [
    {
     "data": {
      "text/plain": [
       "(-0.5, 3.0)"
      ]
     },
     "execution_count": 241,
     "metadata": {},
     "output_type": "execute_result"
    },
    {
     "data": {
      "image/png": "[encoded data removed]",
      "text/plain": [
       "<Figure size 640x480 with 1 Axes>"
      ]
     },
     "metadata": {},
     "output_type": "display_data"
    }
   ],
   "source": [
    "plt.plot(loss_)\n",
    "plt.plot(acc_)\n",
    "plt.ylim(-0.5,3)"
   ]
  },
  {
   "cell_type": "code",
   "execution_count": 192,
   "id": "36350b2a",
   "metadata": {},
   "outputs": [
    {
     "name": "stdout",
     "output_type": "stream",
     "text": [
      "Test Acc = 0.90\n"
     ]
    }
   ],
   "source": [
    "#Test accuracy\n",
    "X_test_ = torch.tensor(X_test.reshape(-1,28*28))\n",
    "Y_test_ = torch.tensor(Y_test).long()\n",
    "\n",
    "test_out = model(X_test_)\n",
    "test_pred = torch.argmax(test_out,dim=1)\n",
    "\n",
    "test_acc = (test_pred == Y_test_).float().mean()\n",
    "print(f\"Test Acc = {test_acc:.2f}\")"
   ]
  },
  {
   "cell_type": "code",
   "execution_count": 203,
   "id": "462d8800",
   "metadata": {},
   "outputs": [
    {
     "name": "stdout",
     "output_type": "stream",
     "text": [
      "Label: 8.0\n",
      "tensor(8)\n"
     ]
    },
    {
     "data": {
      "image/png": "[encoded data removed]",
      "text/plain": [
       "<Figure size 640x480 with 1 Axes>"
      ]
     },
     "metadata": {},
     "output_type": "display_data"
    }
   ],
   "source": [
    "single_point = 4124 \n",
    "print(f\"Label: {Y_test[single_point]}\")\n",
    "plt.imshow(X_test[single_point]);\n",
    "print(torch.argmax(model(X_test_[single_point])))"
   ]
  },
  {
   "cell_type": "code",
   "execution_count": null,
   "id": "0c86b30a",
   "metadata": {},
   "outputs": [],
   "source": [
    "#Test from the wild!"
   ]
  },
  {
   "cell_type": "code",
   "execution_count": 236,
   "id": "826b2d49",
   "metadata": {},
   "outputs": [
    {
     "data": {
      "text/plain": [
       "<matplotlib.image.AxesImage at 0x7f47dd19c2d0>"
      ]
     },
     "execution_count": 236,
     "metadata": {},
     "output_type": "execute_result"
    },
    {
     "data": {
      "image/png": "[encoded data removed]",
      "text/plain": [
       "<Figure size 640x480 with 1 Axes>"
      ]
     },
     "metadata": {},
     "output_type": "display_data"
    }
   ],
   "source": [
    "m =   [[0., 0., 0., 0., 0., 0., 0.],\n",
    "       [0., 0., 1., 1., 1., 0., 0.],\n",
    "       [0., 0., 0., 0., 1., 0., 0.],\n",
    "       [0., 0., 1., 1., 1., 0., 0.],\n",
    "       [0., 0., 1., 0., 0., 0., 0.],\n",
    "       [0., 0., 1., 1., 1., 0., 0.],\n",
    "       [0., 0., 0., 0., 0., 0., 0.]]\n",
    "\n",
    "m = np.concatenate([np.concatenate([[x]*4 for x in y]*4) for y in m])\n",
    "plt.imshow(m.reshape(28,28))"
   ]
  },
  {
   "cell_type": "code",
   "execution_count": 237,
   "id": "f038b5ef",
   "metadata": {},
   "outputs": [],
   "source": [
    "pyt_m = torch.tensor(m.astype(np.float32))"
   ]
  },
  {
   "cell_type": "code",
   "execution_count": 238,
   "id": "e315553e",
   "metadata": {},
   "outputs": [
    {
     "data": {
      "text/plain": [
       "tensor(2)"
      ]
     },
     "execution_count": 238,
     "metadata": {},
     "output_type": "execute_result"
    }
   ],
   "source": [
    "torch.argmax(model(pyt_m))"
   ]
  },
  {
   "cell_type": "code",
   "execution_count": null,
   "id": "314de3b8",
   "metadata": {},
   "outputs": [],
   "source": []
  }
 ],
 "metadata": {
  "kernelspec": {
   "display_name": "Python 3 (ipykernel)",
   "language": "python",
   "name": "python3"
  },
  "language_info": {
   "codemirror_mode": {
    "name": "ipython",
    "version": 3
   },
   "file_extension": ".py",
   "mimetype": "text/x-python",
   "name": "python",
   "nbconvert_exporter": "python",
   "pygments_lexer": "ipython3",
   "version": "3.11.4"
  }
 },
 "nbformat": 4,
 "nbformat_minor": 5
}
